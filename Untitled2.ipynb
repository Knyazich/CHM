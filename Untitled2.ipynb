{
 "cells": [
  {
   "cell_type": "code",
   "execution_count": 12,
   "id": "312f43a1-a759-4378-9329-e89ffbc8f06e",
   "metadata": {},
   "outputs": [
    {
     "name": "stdout",
     "output_type": "stream",
     "text": [
      "[[0 4 4 3]\n",
      " [2 1 0 3]\n",
      " [3 2 3 0]]\n",
      "[2.75 1.5  2.  ]\n",
      "Найнижче середнє значення: 1.5\n"
     ]
    }
   ],
   "source": [
    "a = np.array(np.random.randint(0,5, size=(3,4)))\n",
    "average_rows = np.mean(a, axis=1)\n",
    "minimum = np.min(average_rows)\n",
    "print(a)\n",
    "print(average_rows)\n",
    "print('Найнижче середнє значення:', minimum)"
   ]
  },
  {
   "cell_type": "code",
   "execution_count": null,
   "id": "71eddb76-ef9c-43af-9db0-a45ed6da154a",
   "metadata": {},
   "outputs": [],
   "source": []
  }
 ],
 "metadata": {
  "kernelspec": {
   "display_name": "Python 3 (ipykernel)",
   "language": "python",
   "name": "python3"
  },
  "language_info": {
   "codemirror_mode": {
    "name": "ipython",
    "version": 3
   },
   "file_extension": ".py",
   "mimetype": "text/x-python",
   "name": "python",
   "nbconvert_exporter": "python",
   "pygments_lexer": "ipython3",
   "version": "3.11.4"
  }
 },
 "nbformat": 4,
 "nbformat_minor": 5
}
