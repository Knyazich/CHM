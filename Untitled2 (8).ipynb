{
 "cells": [
  {
   "cell_type": "code",
   "execution_count": 22,
   "id": "312f43a1-a759-4378-9329-e89ffbc8f06e",
   "metadata": {},
   "outputs": [
    {
     "name": "stdout",
     "output_type": "stream",
     "text": [
      "Solving a system of linear algebraic equations by Cramer*s method\n",
      "x= 2.0 y= 3.0 z= 4.0\n"
     ]
    },
    {
     "data": {
      "text/plain": [
       "(1.9999999999999984, 2.9999999999999982, 3.9999999999999973)"
      ]
     },
     "execution_count": 22,
     "metadata": {},
     "output_type": "execute_result"
    }
   ],
   "source": [
    "a = np.matrix('7 3 -6; 7 9 -9; 2 -4 9') \n",
    "b = np.matrix('-1; 5; 28')\n",
    "def kram(a,b): \n",
    "    det_a = np.linalg.det(a) \n",
    "    if det_a != 0: \n",
    "       a1 = np.matrix(a) \n",
    "       a2 = np.matrix(a) \n",
    "       a3 = np.matrix(a) \n",
    "       a1[:, 0] = b \n",
    "       a2[:, 1] = b \n",
    "       a3[:, 2] = b \n",
    "       x = np.linalg.det(a1)/det_a \n",
    "       y =np.linalg.det(a2)/det_a \n",
    "       z= np.linalg.det(a3)/det_a \n",
    "       print('Solving a system of linear algebraic equations by Cramer*s method') \n",
    "       print('x=',x.round(3),'y=',y.round(3),'z=',z.round(3))  \n",
    "    else: \n",
    "        print('Determinant equals zero, the system has no solutions') \n",
    "    return x,y,z \n",
    "kram(a,b) \n"
   ]
  },
  {
   "cell_type": "code",
   "execution_count": null,
   "id": "71eddb76-ef9c-43af-9db0-a45ed6da154a",
   "metadata": {},
   "outputs": [],
   "source": []
  }
 ],
 "metadata": {
  "kernelspec": {
   "display_name": "Python 3 (ipykernel)",
   "language": "python",
   "name": "python3"
  },
  "language_info": {
   "codemirror_mode": {
    "name": "ipython",
    "version": 3
   },
   "file_extension": ".py",
   "mimetype": "text/x-python",
   "name": "python",
   "nbconvert_exporter": "python",
   "pygments_lexer": "ipython3",
   "version": "3.11.4"
  }
 },
 "nbformat": 4,
 "nbformat_minor": 5
}
