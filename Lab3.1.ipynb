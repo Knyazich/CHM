{
 "cells": [
  {
   "cell_type": "code",
   "execution_count": 1,
   "id": "75faa83f-d94c-46cc-b4a3-a19caa6a6c7e",
   "metadata": {},
   "outputs": [
    {
     "name": "stdout",
     "output_type": "stream",
     "text": [
      "Solving the equation by Newton*s method x =  -0.35004470298799134\n",
      "Solving the equation by Newton*s method x =  1.5073644152151044\n"
     ]
    },
    {
     "name": "stderr",
     "output_type": "stream",
     "text": [
      "C:\\Users\\ROBOT\\AppData\\Local\\Temp\\ipykernel_2984\\2264379365.py:9: DeprecationWarning: scipy.misc.derivative is deprecated in SciPy v1.10.0; and will be completely removed in SciPy v1.12.0. You may consider using findiff: https://github.com/maroba/findiff or numdifftools: https://github.com/pbrod/numdifftools\n",
      "  df2 = derivative(f, b, n = 2)\n",
      "C:\\Users\\ROBOT\\AppData\\Local\\Temp\\ipykernel_2984\\2264379365.py:15: DeprecationWarning: scipy.misc.derivative is deprecated in SciPy v1.10.0; and will be completely removed in SciPy v1.12.0. You may consider using findiff: https://github.com/maroba/findiff or numdifftools: https://github.com/pbrod/numdifftools\n",
      "  df = derivative(f,xi, n= 1)\n"
     ]
    }
   ],
   "source": [
    "import numpy as np \n",
    "import math \n",
    "from scipy.misc import derivative \n",
    "def f(x): \n",
    "    return 3*pow(x, 4) - 4*pow(x,3) + pow(x, 2)  - 2*x - 1 \n",
    "eps = 0.001 #точність \n",
    "def nuton(a,b,eps): \n",
    "\n",
    "    df2 = derivative(f, b, n = 2) \n",
    "\n",
    "    if (f(b)*df2>0): \n",
    "        xi = b \n",
    "    else: \n",
    "        xi = a \n",
    "    df = derivative(f,xi, n= 1) \n",
    "    xi_1 = xi - f(xi)/df \n",
    "    while (abs(xi_1 - xi)>eps): #accuracy check \n",
    "        xi = xi_1 \n",
    "        xi_1 = xi - f(xi)/df \n",
    "\n",
    "    return print ('Solving the equation by Newton*s method x = ', xi_1) \n",
    "\n",
    "nuton (-1, 0,eps) \n",
    "nuton (1, 2,eps)"
   ]
  },
  {
   "cell_type": "code",
   "execution_count": null,
   "id": "d587a5af-3fd7-488a-a84b-0ef4b3e29718",
   "metadata": {},
   "outputs": [],
   "source": []
  }
 ],
 "metadata": {
  "kernelspec": {
   "display_name": "Python 3 (ipykernel)",
   "language": "python",
   "name": "python3"
  },
  "language_info": {
   "codemirror_mode": {
    "name": "ipython",
    "version": 3
   },
   "file_extension": ".py",
   "mimetype": "text/x-python",
   "name": "python",
   "nbconvert_exporter": "python",
   "pygments_lexer": "ipython3",
   "version": "3.11.4"
  }
 },
 "nbformat": 4,
 "nbformat_minor": 5
}
