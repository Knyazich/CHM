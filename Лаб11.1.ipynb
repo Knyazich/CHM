{
 "cells": [
  {
   "cell_type": "code",
   "execution_count": 9,
   "id": "7e341cf5-8b68-483a-8c6f-d5b18d9bbb13",
   "metadata": {},
   "outputs": [
    {
     "name": "stdout",
     "output_type": "stream",
     "text": [
      "right rectangle: 1.24645\n",
      "average rectangle: 0.34785\n",
      "Check for the rectangle method=  1.18101\n"
     ]
    }
   ],
   "source": [
    "from scipy import integrate \n",
    "import numpy as np\n",
    "eps = 0.001\n",
    "a = 0.5\n",
    "b = 2.3\n",
    "n = 10\n",
    "\n",
    "def f1(x): \n",
    "    return x/np.sqrt(x+3)\n",
    "def left_rec(f1,a,b,n): \n",
    "    h=(b-a)/n \n",
    "    sum=0 \n",
    "    for i in range(0,n): \n",
    "        sum+=f1(a+i*h) \n",
    "    return sum*h \n",
    "v,err = integrate.quad(f1,a,b)#Перевірка\n",
    "#Перевірка точності за правилом Рунге:\n",
    "if abs(left_rec(f1,a,b,2*10) - left_rec(f1,a,b,10))/3. <=eps: \n",
    "    print(\"left rectangle:\",round (left_rec(f1,a,b,10), 5)) \n",
    "def right_rec(f1,a,b,n): \n",
    "    h=(b-a)/n \n",
    "    sum=0 \n",
    "    for i in range(1,n+1): \n",
    "        sum+=f1(a+i*h) \n",
    "    return sum*h \n",
    "print(\"right rectangle:\",round (right_rec(f1,a,b,10), 5)) \n",
    "def aver_rec(f1,a,b,n): \n",
    "    h=0.08 \n",
    "    sum=0 \n",
    "    for i in range(0,n): \n",
    "        sum+=f1(a+i*h) \n",
    "    return sum*h \n",
    "print(\"average rectangle:\",round (aver_rec(f1,a,b,10), 5)) \n",
    "print(\"Check for the rectangle method= \",round (v, 5))"
   ]
  },
  {
   "cell_type": "code",
   "execution_count": null,
   "id": "9b6a7764-b89b-4e05-825c-7cf527118a96",
   "metadata": {},
   "outputs": [],
   "source": []
  }
 ],
 "metadata": {
  "kernelspec": {
   "display_name": "Python 3 (ipykernel)",
   "language": "python",
   "name": "python3"
  },
  "language_info": {
   "codemirror_mode": {
    "name": "ipython",
    "version": 3
   },
   "file_extension": ".py",
   "mimetype": "text/x-python",
   "name": "python",
   "nbconvert_exporter": "python",
   "pygments_lexer": "ipython3",
   "version": "3.11.4"
  }
 },
 "nbformat": 4,
 "nbformat_minor": 5
}
