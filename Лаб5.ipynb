{
 "cells": [
  {
   "cell_type": "code",
   "execution_count": 10,
   "id": "685b2be4-de11-46c6-b1a1-0efc1316a2b8",
   "metadata": {},
   "outputs": [
    {
     "name": "stdout",
     "output_type": "stream",
     "text": [
      "Simple iteration:\n",
      "y= 0.5000529266555822 \n",
      "x= -0.0018495506530779027 \n",
      "The amount of iteration =  3\n",
      "Chek [-0.0025049   0.50000157]\n"
     ]
    }
   ],
   "source": [
    "import numpy as np\n",
    "from scipy import optimize\n",
    "from scipy.misc import derivative\n",
    "import math\n",
    "\n",
    "x0 = -0.2\n",
    "y0 = 0.4\n",
    "delta = 0.1\n",
    "\n",
    "def f1(y):\n",
    "    return math.sin(y + 1) - 1\n",
    "\n",
    "def f2(x):\n",
    "    return -(math.cos(x))/2 + 1\n",
    " \n",
    "def iter (x,y,e):\n",
    "    xn = x\n",
    "    yn = y\n",
    "    xn1 = f2(x)\n",
    "    yn1 = f1(y)\n",
    "    n = 1\n",
    "    while ((abs(xn1-xn)>=e) & (abs(yn1-yn) >=e)):\n",
    "        xn = xn1\n",
    "        yn = yn1\n",
    "        xn1 = f2(yn)\n",
    "        yn1 = f1(xn)\n",
    "        n += 1\n",
    "    print ('Simple iteration:')\n",
    "    print ('y=', xn, '\\nx=',yn,'\\nThe amount of iteration = ',n)\n",
    "iter(x0,y0,0.0001)\n",
    "\n",
    "def f3(x): #Задаємо функцію для перевірки\n",
    "    return math.sin(x[1]+1)-x[0]-1, 2*x[1]+math.cos(x[0])-2\n",
    "s = optimize.root(f3, [0.,0.], method = 'hybr') #Перевірка розв*язку      #Відповіді мають співпасти\n",
    "print ('Chek',s.x)"
   ]
  },
  {
   "cell_type": "code",
   "execution_count": null,
   "id": "7e4c7a2d-0023-4ae0-b637-f0c11466f766",
   "metadata": {},
   "outputs": [],
   "source": []
  }
 ],
 "metadata": {
  "kernelspec": {
   "display_name": "Python 3 (ipykernel)",
   "language": "python",
   "name": "python3"
  },
  "language_info": {
   "codemirror_mode": {
    "name": "ipython",
    "version": 3
   },
   "file_extension": ".py",
   "mimetype": "text/x-python",
   "name": "python",
   "nbconvert_exporter": "python",
   "pygments_lexer": "ipython3",
   "version": "3.11.4"
  }
 },
 "nbformat": 4,
 "nbformat_minor": 5
}
