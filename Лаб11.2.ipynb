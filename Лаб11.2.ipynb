{
 "cells": [
  {
   "cell_type": "code",
   "execution_count": 1,
   "id": "b372b465-07ae-446e-a7db-88f51a8da936",
   "metadata": {},
   "outputs": [
    {
     "name": "stdout",
     "output_type": "stream",
     "text": [
      "Simpsone method: 2.667\n",
      "Check for the simpsone method=  2.667\n"
     ]
    }
   ],
   "source": [
    "from scipy import integrate \n",
    "import numpy as np\n",
    "\n",
    "# Задаємо функцію, яку необхідно інтегрувати\n",
    "def f(x):\n",
    "    return ((x/2)+1)*np.sin(x/2)\n",
    "\n",
    "# Задаємо межі інтегрування та початкову кількість розбиттів\n",
    "a = 1.2\n",
    "b = 2.8\n",
    "n = 8\n",
    "\n",
    "# Обчислюємо значення інтегралу методом Симпсона\n",
    "def simpson_rule(f, a, b, n):\n",
    "    h = (b - a) / n \n",
    "    integr = f(a) + f(b) \n",
    "    for i in range(1,n): \n",
    "        k = a + i*h \n",
    "        if i%2 == 0: \n",
    "            integr += 2 * f(k) \n",
    "        else: \n",
    "            integr += 4 * f(k) \n",
    "    integr *= h/3 \n",
    "    return integr \n",
    "\n",
    "# Обчислюємо значення інтегралу методом Сімпсона з точністю 0.001\n",
    "integral1 = simpson_rule(f, a, b, n)\n",
    "n *= 2\n",
    "integral2 = simpson_rule(f, a, b, n)\n",
    "while abs(integral2 - integral1) / 15 > 0.001:\n",
    "    integral1 = integral2\n",
    "    n *= 2\n",
    "    integral2 = simpson_rule(f, a, b, n)\n",
    "# Виводимо результат\n",
    "print(\"Simpsone method:\", round(integral2, 3))\n",
    "\n",
    "v,err = integrate.quad(f,a,b)#Перевірка \n",
    "print(\"Check for the simpsone method= \",round(v, 3))"
   ]
  },
  {
   "cell_type": "code",
   "execution_count": null,
   "id": "251384f8-b9a7-4fb4-a6c2-689b10c5d495",
   "metadata": {},
   "outputs": [],
   "source": []
  }
 ],
 "metadata": {
  "kernelspec": {
   "display_name": "Python 3 (ipykernel)",
   "language": "python",
   "name": "python3"
  },
  "language_info": {
   "codemirror_mode": {
    "name": "ipython",
    "version": 3
   },
   "file_extension": ".py",
   "mimetype": "text/x-python",
   "name": "python",
   "nbconvert_exporter": "python",
   "pygments_lexer": "ipython3",
   "version": "3.11.4"
  }
 },
 "nbformat": 4,
 "nbformat_minor": 5
}
