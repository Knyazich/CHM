{
 "cells": [
  {
   "cell_type": "code",
   "execution_count": 2,
   "id": "7e341cf5-8b68-483a-8c6f-d5b18d9bbb13",
   "metadata": {},
   "outputs": [
    {
     "name": "stdout",
     "output_type": "stream",
     "text": [
      "Значення функції у точках x_test = [11.   14.75 10.25 -4.  ]\n"
     ]
    },
    {
     "ename": "NameError",
     "evalue": "name 'plt' is not defined",
     "output_type": "error",
     "traceback": [
      "\u001b[1;31m---------------------------------------------------------------------------\u001b[0m",
      "\u001b[1;31mNameError\u001b[0m                                 Traceback (most recent call last)",
      "Cell \u001b[1;32mIn[2], line 25\u001b[0m\n\u001b[0;32m     23\u001b[0m xnew\u001b[38;5;241m=\u001b[39mnp\u001b[38;5;241m.\u001b[39mlinspace(np\u001b[38;5;241m.\u001b[39mmin(x),np\u001b[38;5;241m.\u001b[39mmax(x),\u001b[38;5;241m100\u001b[39m) \u001b[38;5;66;03m#точки, за якими будуємо графік \u001b[39;00m\n\u001b[0;32m     24\u001b[0m ynew\u001b[38;5;241m=\u001b[39m[lagrange_interpolation(x,y,i) \u001b[38;5;28;01mfor\u001b[39;00m i \u001b[38;5;129;01min\u001b[39;00m xnew] \n\u001b[1;32m---> 25\u001b[0m \u001b[43mplt\u001b[49m\u001b[38;5;241m.\u001b[39mplot(x,y,\u001b[38;5;124m'\u001b[39m\u001b[38;5;124mo\u001b[39m\u001b[38;5;124m'\u001b[39m,xnew,ynew) \u001b[38;5;66;03m#будуємо графік функції Лагранжа \u001b[39;00m\n\u001b[0;32m     26\u001b[0m plt\u001b[38;5;241m.\u001b[39mtitle(\u001b[38;5;124m'\u001b[39m\u001b[38;5;124mLagrange Polynomial_1\u001b[39m\u001b[38;5;124m'\u001b[39m) \n\u001b[0;32m     27\u001b[0m plt\u001b[38;5;241m.\u001b[39mgrid(\u001b[38;5;28;01mTrue\u001b[39;00m) \n",
      "\u001b[1;31mNameError\u001b[0m: name 'plt' is not defined"
     ]
    }
   ],
   "source": [
    "import numpy as np \n",
    "def lagrange_interpolation(x, y, x_test): \n",
    "    n = len(x) \n",
    "    p = np.zeros_like(x_test, dtype=float) # масив для зберігання значень багаточленів L_i \n",
    " \n",
    "    for i in range(n): \n",
    "        p_i = 1.0 \n",
    "        for j in range(n): \n",
    "            if i != j: \n",
    "                p_i *= (x_test - x[j]) / (x[i] - x[j]) \n",
    "        p += y[i] * p_i \n",
    "    return p \n",
    "# Задайте ваші точки (x, y) \n",
    "x = np.array([-3.0, -1.0, 0.0, 2.0], dtype=float) \n",
    "y = np.array([-16.0, 14.0, 5.0, -1.0], dtype=float) \n",
    " \n",
    "# Точки, в яких потрібно обчислити значення \n",
    "x_test = np.array([-2.0,-1.5,-0.5, 1.0], dtype=float) \n",
    "# Обчислюємо інтерполяційний багаточлен та його значення у точках x_test \n",
    "f_interp = lagrange_interpolation(x, y, x_test) \n",
    "print(\"Значення функції у точках x_test =\", f_interp.round(4)) \n",
    " \n",
    "xnew=np.linspace(np.min(x),np.max(x),100) #точки, за якими будуємо графік \n",
    "ynew=[lagrange_interpolation(x,y,i) for i in xnew] \n",
    "plt.plot(x,y,'o',xnew,ynew) #будуємо графік функції Лагранжа \n",
    "plt.title('Lagrange Polynomial_1') \n",
    "plt.grid(True) \n",
    "plt.show()  \n",
    "  \n",
    "#Перевірка  \n",
    "f = lagrange(x, y) \n",
    "fig = plt.figure(figsize = (7,5)) \n",
    "plt.plot(xnew, f(xnew), 'b', x, y, 'ro') \n",
    "plt.title('Lagrange Polynomial_2') \n",
    "plt.grid() \n",
    "plt.xlabel('x') \n",
    "plt.ylabel('y') \n",
    "plt.show()"
   ]
  },
  {
   "cell_type": "code",
   "execution_count": null,
   "id": "44d4ad2f-ad73-4395-81e4-52a45c5926c5",
   "metadata": {},
   "outputs": [],
   "source": []
  }
 ],
 "metadata": {
  "kernelspec": {
   "display_name": "Python 3 (ipykernel)",
   "language": "python",
   "name": "python3"
  },
  "language_info": {
   "codemirror_mode": {
    "name": "ipython",
    "version": 3
   },
   "file_extension": ".py",
   "mimetype": "text/x-python",
   "name": "python",
   "nbconvert_exporter": "python",
   "pygments_lexer": "ipython3",
   "version": "3.11.4"
  }
 },
 "nbformat": 4,
 "nbformat_minor": 5
}
