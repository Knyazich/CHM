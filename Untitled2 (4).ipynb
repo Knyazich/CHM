{
 "cells": [
  {
   "cell_type": "code",
   "execution_count": 13,
   "id": "312f43a1-a759-4378-9329-e89ffbc8f06e",
   "metadata": {},
   "outputs": [
    {
     "name": "stdout",
     "output_type": "stream",
     "text": [
      "[[14 24 30]\n",
      " [ 0 14 24]\n",
      " [ 0  0 14]]\n"
     ]
    }
   ],
   "source": [
    "import numpy as np \n",
    "a_arr = np.array([[1, 1, 1], [0, 1, 1], [0, 0, 1]])\n",
    "b_arr = np.array([[7, 5, 3], [0, 7, 5], [0, 0, 7]])\n",
    "c = b_arr.dot(a_arr) + a_arr.dot(b_arr) \n",
    "print(c)"
   ]
  },
  {
   "cell_type": "code",
   "execution_count": null,
   "id": "71eddb76-ef9c-43af-9db0-a45ed6da154a",
   "metadata": {},
   "outputs": [],
   "source": []
  }
 ],
 "metadata": {
  "kernelspec": {
   "display_name": "Python 3 (ipykernel)",
   "language": "python",
   "name": "python3"
  },
  "language_info": {
   "codemirror_mode": {
    "name": "ipython",
    "version": 3
   },
   "file_extension": ".py",
   "mimetype": "text/x-python",
   "name": "python",
   "nbconvert_exporter": "python",
   "pygments_lexer": "ipython3",
   "version": "3.11.4"
  }
 },
 "nbformat": 4,
 "nbformat_minor": 5
}
