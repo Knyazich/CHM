{
 "cells": [
  {
   "cell_type": "code",
   "execution_count": 1,
   "id": "685b2be4-de11-46c6-b1a1-0efc1316a2b8",
   "metadata": {},
   "outputs": [
    {
     "name": "stdout",
     "output_type": "stream",
     "text": [
      "Trapetzia methodof: 0.615\n",
      "Check for the trapetzia method=  0.55186\n"
     ]
    }
   ],
   "source": [
    "from scipy import integrate \n",
    "import numpy as np\n",
    "\n",
    "# Задаємо функцію, яку необхідно інтегрувати\n",
    "def f(x):\n",
    "    return x/np.sqrt(2*x**2 + 1.3)\n",
    "\n",
    "# Задаємо межі інтегрування та початкову кількість розбиттів\n",
    "a = 1\n",
    "b = 2\n",
    "n = 20\n",
    "\n",
    "# Обчислюємо значення інтегралу методом трапецій\n",
    "def trapezoidal_rule(f, a, b, n):\n",
    "    h = (b - a) / n\n",
    "    x = a\n",
    "    sum = 0\n",
    "    for i in range(1, n):\n",
    "        x += h\n",
    "        sum += 2 * f(x)\n",
    "    sum += f(b)\n",
    "    integral = h / 2 * sum\n",
    "\n",
    "    return integral\n",
    "\n",
    "# Обчислюємо значення інтегралу методом трапецій з точністю 0.001\n",
    "#Перевірка точності за правилом Рунге\n",
    "integral1 = trapezoidal_rule(f, a, b, n)\n",
    "n *= 2\n",
    "integral2 = trapezoidal_rule(f, a, b, n)\n",
    "while abs(integral2 - integral1) / 3 > 0.001:\n",
    "    integral1 = integral2\n",
    "    n *= 2\n",
    "    integral2 = trapezoidal_rule(f, a, b, n)\n",
    "\n",
    "# Виводимо результат\n",
    "print(\"Trapetzia methodof:\", round(integral2, 3))\n",
    "\n",
    "v,err = integrate.quad(f,3.2,4) #Перевірка\n",
    "print(\"Check for the trapetzia method= \",round(v, 5))"
   ]
  },
  {
   "cell_type": "code",
   "execution_count": null,
   "id": "7e4c7a2d-0023-4ae0-b637-f0c11466f766",
   "metadata": {},
   "outputs": [],
   "source": []
  },
  {
   "cell_type": "code",
   "execution_count": null,
   "id": "4703ddaf-78e6-4c93-9b42-1eab8587699a",
   "metadata": {},
   "outputs": [],
   "source": []
  },
  {
   "cell_type": "code",
   "execution_count": null,
   "id": "661dbe35-da57-4278-81ae-0bbe98ecb749",
   "metadata": {},
   "outputs": [],
   "source": []
  }
 ],
 "metadata": {
  "kernelspec": {
   "display_name": "Python 3 (ipykernel)",
   "language": "python",
   "name": "python3"
  },
  "language_info": {
   "codemirror_mode": {
    "name": "ipython",
    "version": 3
   },
   "file_extension": ".py",
   "mimetype": "text/x-python",
   "name": "python",
   "nbconvert_exporter": "python",
   "pygments_lexer": "ipython3",
   "version": "3.11.4"
  }
 },
 "nbformat": 4,
 "nbformat_minor": 5
}
