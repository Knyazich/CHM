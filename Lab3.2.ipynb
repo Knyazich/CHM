{
 "cells": [
  {
   "cell_type": "code",
   "execution_count": 1,
   "id": "312f43a1-a759-4378-9329-e89ffbc8f06e",
   "metadata": {},
   "outputs": [
    {
     "name": "stdout",
     "output_type": "stream",
     "text": [
      "Solving the equation by the combined method x =  -0.34159774594213815\n",
      "Solving the equation by the combined method x =  1.5043135197503705\n"
     ]
    },
    {
     "name": "stderr",
     "output_type": "stream",
     "text": [
      "C:\\Users\\ROBOT\\AppData\\Local\\Temp\\ipykernel_17712\\3890296730.py:7: DeprecationWarning: scipy.misc.derivative is deprecated in SciPy v1.10.0; and will be completely removed in SciPy v1.12.0. You may consider using findiff: https://github.com/maroba/findiff or numdifftools: https://github.com/pbrod/numdifftools\n",
      "  if (derivative(f, a, n = 1)*derivative(f, a, n = 2)>0):\n",
      "C:\\Users\\ROBOT\\AppData\\Local\\Temp\\ipykernel_17712\\3890296730.py:24: DeprecationWarning: scipy.misc.derivative is deprecated in SciPy v1.10.0; and will be completely removed in SciPy v1.12.0. You may consider using findiff: https://github.com/maroba/findiff or numdifftools: https://github.com/pbrod/numdifftools\n",
      "  bi_1 = bi - f(bi)/derivative(f,bi, n= 1)\n"
     ]
    }
   ],
   "source": [
    "import numpy as np \n",
    "import math \n",
    "from scipy.misc import derivative \n",
    "def f(x): \n",
    "    return 3*pow(x, 4) - 4*pow(x,3) + pow(x, 2)  - 2*x - 1\n",
    "def komb(a,b,eps): \n",
    "    if (derivative(f, a, n = 1)*derivative(f, a, n = 2)>0): \n",
    "        a0 = a \n",
    "        b0 = b \n",
    "        \n",
    "\n",
    "    else: \n",
    "        a0 = b \n",
    "        b0 = a \n",
    "\n",
    "    ai = a0 \n",
    "\n",
    "    bi = b0 \n",
    "\n",
    "    while abs(ai-bi)>eps:    \n",
    "\n",
    "        ai_1 = ai -f(ai)*(bi - ai)/(f(bi) - f(ai)) \n",
    "\n",
    "        bi_1 = bi - f(bi)/derivative(f,bi, n= 1)  \n",
    "\n",
    "        ai = ai_1 \n",
    "\n",
    "        bi = bi_1 \n",
    "\n",
    "    x = (ai_1+bi_1)/2  \n",
    "    return print('Solving the equation by the combined method x = ', x) \n",
    "komb(-1, 0, 0.0001)\n",
    "komb(1, 2, 0.0001)"
   ]
  },
  {
   "cell_type": "code",
   "execution_count": null,
   "id": "71eddb76-ef9c-43af-9db0-a45ed6da154a",
   "metadata": {},
   "outputs": [],
   "source": []
  }
 ],
 "metadata": {
  "kernelspec": {
   "display_name": "Python 3 (ipykernel)",
   "language": "python",
   "name": "python3"
  },
  "language_info": {
   "codemirror_mode": {
    "name": "ipython",
    "version": 3
   },
   "file_extension": ".py",
   "mimetype": "text/x-python",
   "name": "python",
   "nbconvert_exporter": "python",
   "pygments_lexer": "ipython3",
   "version": "3.11.4"
  }
 },
 "nbformat": 4,
 "nbformat_minor": 5
}
